{
 "cells": [
  {
   "cell_type": "markdown",
   "metadata": {},
   "source": [
    "\n",
    "##  Ejercicio propuesto pandas"
   ]
  },
  {
   "cell_type": "markdown",
   "metadata": {},
   "source": [
    "La prueba piloto de la Encuesta a Empleadores del Observatorio Laboral, fue aplicada en Bogotá, entre el 21 y 28 de enero de 2008 vía telefónica con la colaboración de la firma Econometría S.A.\n",
    "\n",
    "[Aquí](www.pagina.com) se proporciona una porción de la base de datos mencionada anteriormente en la cual se presentan  información del sector al que pertenece la empresa entre otras variable. El diccionario de las variables lo puede encontrar [Aquí](asd).\n",
    "\n",
    "La empresa **Estadistica.s.a** está interesada en que usted realice una análisis de esta  base de datos\n",
    "y suministre la siguiente información:\n",
    "\n",
    " 1. Cual es el total de profesionales y tecnicos o tecnologos que fueron contratados en el año 2008.\n",
    " 2. Cual es el sector que más empleados con nivel de estudios profesional contrata y cual es el sector que más empleados con nivel de estudios tecnico o tecnologo contrata contrata.\n",
    " 3.  Cual es el porcentaje de empleados que son contratados por cada medio.\n",
    " \n"
   ]
  },
  {
   "cell_type": "markdown",
   "metadata": {},
   "source": [
    "## Solución"
   ]
  },
  {
   "cell_type": "markdown",
   "metadata": {},
   "source": [
    "Importamos la libreria necesaria."
   ]
  },
  {
   "cell_type": "code",
   "execution_count": 260,
   "metadata": {},
   "outputs": [],
   "source": [
    "import pandas as pd"
   ]
  },
  {
   "cell_type": "markdown",
   "metadata": {},
   "source": [
    "Cargamos la base de datos y realizamos un estudio de esta."
   ]
  },
  {
   "cell_type": "code",
   "execution_count": 130,
   "metadata": {},
   "outputs": [],
   "source": [
    "base1 = pd.read_csv('encuesta a empleadores.csv')"
   ]
  },
  {
   "cell_type": "code",
   "execution_count": 131,
   "metadata": {},
   "outputs": [
    {
     "name": "stdout",
     "output_type": "stream",
     "text": [
      "   tamano    sector              ActividadEconomica  SENA  Temporal  \\\n",
      "0  GRANDE  COMERCIO          COMERCIO DE FERRETERIA   7.0       5.0   \n",
      "1  GRANDE  COMERCIO  VENTA DE MAQUINARIA INDUSTRIAL   4.0       NaN   \n",
      "2  GRANDE  COMERCIO              TELECOMUNICACIONES   5.0       6.0   \n",
      "3  GRANDE  COMERCIO  COMERCIALIZADORA EMPAQUES ESPE   2.0       NaN   \n",
      "4  GRANDE  COMERCIO                        COMERCIO   7.0       NaN   \n",
      "\n",
      "   BolsaEmpleo  Periodico  RecomendacioAmigos  RecomendacionTra  Otro  \\\n",
      "0          6.0        NaN                 NaN               NaN   NaN   \n",
      "1          NaN        NaN                 NaN               NaN   NaN   \n",
      "2          NaN        NaN                 NaN               NaN   NaN   \n",
      "3          NaN        NaN                 NaN               NaN   NaN   \n",
      "4          NaN        NaN                 NaN               NaN   NaN   \n",
      "\n",
      "       Nivel_contratados  TotalProfesionales  TotalTecTecnolo  \n",
      "0         Universitarios                10.0              5.0  \n",
      "1  Tecnicos o Tecnologos                 3.0              5.0  \n",
      "2         Universitarios                20.0              8.0  \n",
      "3         Universitarios                20.0              4.0  \n",
      "4         Universitarios                10.0              2.0  \n"
     ]
    }
   ],
   "source": [
    "print(base1.head()) #Imprimimos los primeros 5 registros "
   ]
  },
  {
   "cell_type": "code",
   "execution_count": 132,
   "metadata": {},
   "outputs": [
    {
     "name": "stdout",
     "output_type": "stream",
     "text": [
      "<class 'pandas.core.frame.DataFrame'>\n",
      "RangeIndex: 407 entries, 0 to 406\n",
      "Data columns (total 13 columns):\n",
      "tamano                406 non-null object\n",
      "sector                406 non-null object\n",
      "ActividadEconomica    406 non-null object\n",
      "SENA                  406 non-null float64\n",
      "Temporal              262 non-null float64\n",
      "BolsaEmpleo           127 non-null float64\n",
      "Periodico             58 non-null float64\n",
      "RecomendacioAmigos    27 non-null float64\n",
      "RecomendacionTra      12 non-null float64\n",
      "Otro                  1 non-null float64\n",
      "Nivel_contratados     406 non-null object\n",
      "TotalProfesionales    406 non-null float64\n",
      "TotalTecTecnolo       406 non-null float64\n",
      "dtypes: float64(9), object(4)\n",
      "memory usage: 41.4+ KB\n",
      "None\n"
     ]
    }
   ],
   "source": [
    "print(base1.info()) # imprimimos un resumen de las variable"
   ]
  },
  {
   "cell_type": "markdown",
   "metadata": {},
   "source": [
    "Entregamos ahora la información requerida"
   ]
  },
  {
   "cell_type": "code",
   "execution_count": 142,
   "metadata": {
    "scrolled": true
   },
   "outputs": [
    {
     "name": "stdout",
     "output_type": "stream",
     "text": [
      "Total tecnicos,tecnologos y profesionales : 6240.0\n"
     ]
    }
   ],
   "source": [
    "#1.\n",
    "print('Total tecnicos,tecnologos y profesionales :', (base1['TotalProfesionales'].sum()+base1['TotalTecTecnolo'].sum()))"
   ]
  },
  {
   "cell_type": "code",
   "execution_count": 134,
   "metadata": {},
   "outputs": [
    {
     "name": "stdout",
     "output_type": "stream",
     "text": [
      "           TotalProfesionales\n",
      "sector                       \n",
      "COMERCIO                905.0\n",
      "INDUSTRIA               626.0\n",
      "SERVICIOS              1494.0\n",
      "\n",
      "\n",
      "           TotalTecTecnolo\n",
      "sector                    \n",
      "COMERCIO            1147.0\n",
      "INDUSTRIA            805.0\n",
      "SERVICIOS           1263.0\n"
     ]
    }
   ],
   "source": [
    "#2.\n",
    "print(base1.groupby(['sector'])[['TotalProfesionales']].sum())\n",
    "print('\\n')\n",
    "print(base1.groupby(['sector'])[['TotalTecTecnolo']].sum())"
   ]
  },
  {
   "cell_type": "code",
   "execution_count": 181,
   "metadata": {},
   "outputs": [
    {
     "name": "stdout",
     "output_type": "stream",
     "text": [
      "Total: 3754.0\n",
      "SENA: 38.12 %\n",
      "Temporal: 32.13 %\n",
      "BolsaEmpleo: 16.7 %\n",
      "Periodico: 7.43 %\n",
      "RecomendacionTrabajador: 3.73 %\n",
      "RecomendacioAmigos: 1.7 %\n",
      "Otro: 0.19 %\n"
     ]
    }
   ],
   "source": [
    "#3.\n",
    "total = 0\n",
    "for i in range(3,10):\n",
    "    total += base1.iloc[:,i].sum()  \n",
    "print('Total:', total)\n",
    "    \n",
    "\n",
    "#reporte por medio \n",
    "\n",
    "print('SENA:',round(base1.iloc[:,3].sum()/total*100,2),'%')\n",
    "\n",
    "print('Temporal:',round(base1.iloc[:,4].sum()/total*100,2),'%')\n",
    "\n",
    "print('BolsaEmpleo:',round(base1.iloc[:,5].sum()/total*100,2),'%')\n",
    "\n",
    "print('Periodico:',round(base1.iloc[:,6].sum()/total*100,2),'%')\n",
    "\n",
    "print('RecomendacionTrabajador:',round(base1.iloc[:,7].sum()/total*100,2),'%')\n",
    "\n",
    "print('RecomendacioAmigos:',round(base1.iloc[:,8].sum()/total*100,2),'%')\n",
    "\n",
    "print('Otro:',round(base1.iloc[:,9].sum()/total*100,2),'%')\n",
    "\n",
    "\n",
    "\n",
    "\n",
    "           \n"
   ]
  },
  {
   "cell_type": "markdown",
   "metadata": {},
   "source": [
    "## Ejercicios porpuesto con matplotlib"
   ]
  },
  {
   "cell_type": "markdown",
   "metadata": {},
   "source": [
    "* Dada las función $\\frac{x ^4 + 5x}{x^3}$ construya la grafica de esta y de su inversa.\n",
    "* Dada la lista  $[4,7,8,4,3,4]$  que corresponde al numero de estudiantes que practican los deportes futbol , natación,  rugby, voleibol y patinaje respectivamente , construya el grafico apropiado que resuma la información aterior."
   ]
  },
  {
   "cell_type": "code",
   "execution_count": 286,
   "metadata": {},
   "outputs": [],
   "source": [
    "import matplotlib.pyplot as plt\n",
    "import numpy as np"
   ]
  },
  {
   "cell_type": "code",
   "execution_count": 256,
   "metadata": {},
   "outputs": [],
   "source": [
    "%matplotlib inline\n"
   ]
  },
  {
   "cell_type": "code",
   "execution_count": 299,
   "metadata": {},
   "outputs": [],
   "source": [
    "def f(x):\n",
    "    return (x ** 4 + 5 * x)/(x ** 3)\n",
    "\n",
    "x = np.linspace(-10,10,100)"
   ]
  },
  {
   "cell_type": "code",
   "execution_count": 321,
   "metadata": {},
   "outputs": [
    {
     "data": {
      "text/plain": [
       "[<matplotlib.lines.Line2D at 0x7f2006959748>]"
      ]
     },
     "execution_count": 321,
     "metadata": {},
     "output_type": "execute_result"
    },
    {
     "data": {
      "image/png": "[encoded data removed]",
      "text/plain": [
       "<Figure size 432x288 with 2 Axes>"
      ]
     },
     "metadata": {},
     "output_type": "display_data"
    }
   ],
   "source": [
    "fig, axes = plt.subplots(1, 2,sharey=True)\n",
    "plt.grid(True)\n",
    "axes[0].grid(True)\n",
    "axes[1].grid(True)\n",
    "axes[0].plot(x, f(x), color='purple')\n",
    "axes[1].plot(x, -f(x))\n",
    "\n"
   ]
  },
  {
   "cell_type": "code",
   "execution_count": 320,
   "metadata": {},
   "outputs": [
    {
     "data": {
      "image/png": "[encoded data removed]",
      "text/plain": [
       "<Figure size 432x288 with 1 Axes>"
      ]
     },
     "metadata": {},
     "output_type": "display_data"
    }
   ],
   "source": [
    "fig = plt.figure()\n",
    "ax = fig.add_subplot(111)\n",
    "\n",
    "puntaje = [4,7,8,4,3]\n",
    "deporte =['futbol' , 'natación',  'rugby', 'voleibol', 'patinaje']\n",
    "\n",
    "xx = range(1,len(puntaje)+1)\n",
    "\n",
    "ax.bar(xx,puntaje,color = 'yellow' )\n",
    "\n",
    "ax.set_xticks(xx)\n",
    "ax.set_xticklabels(deporte)\n",
    "ax.set_ylabel('Total de estudiantes')\n",
    "ax.set_title('Estudiantes por deporte')\n",
    "\n",
    "\n",
    "plt.show()\n",
    "\n",
    "\n"
   ]
  },
  {
   "cell_type": "markdown",
   "metadata": {},
   "source": [
    "## Ejercicio porpuesto con numpy"
   ]
  },
  {
   "cell_type": "markdown",
   "metadata": {},
   "source": [
    "* Calcular las soluciones de siguiente sistema de ecuaciones lineales:\n",
    "$$4x+5y+z6=6, \\  2x+6y+5z=7, \\ 3x+6y+7z=4$$\n",
    "\n",
    "* Crear una matriz con caracteristica similares a un tablero de ajedrez donde los casillas blanca sean un 0 y las negras un 3.\n"
   ]
  },
  {
   "cell_type": "code",
   "execution_count": 329,
   "metadata": {},
   "outputs": [],
   "source": [
    "import re "
   ]
  },
  {
   "cell_type": "code",
   "execution_count": 379,
   "metadata": {},
   "outputs": [
    {
     "name": "stdout",
     "output_type": "stream",
     "text": [
      "Las soluciones son : \n",
      "x : 2.0588235294117636\n",
      " y: 2.588235294117647\n",
      "z : -2.529411764705882\n"
     ]
    }
   ],
   "source": [
    "a = np.array([[4,5,6],[2,6,5],[3,6,7]])\n",
    "b = np.array([6,7,4])\n",
    "x = np.linalg.solve(a,b)\n",
    "print('Las soluciones son : ')\n",
    "print('x :', x[0])\n",
    "print(' y:', x[1])\n",
    "print('z :', x[2])\n",
    "\n"
   ]
  },
  {
   "cell_type": "markdown",
   "metadata": {},
   "source": [
    "tablero = np.zeros((8,8))\n",
    "tablero[1::2,::2] = 1\n",
    "tablero[0::2,1::2] = 1\n",
    "tablero"
   ]
  },
  {
   "cell_type": "code",
   "execution_count": 383,
   "metadata": {},
   "outputs": [
    {
     "name": "stdout",
     "output_type": "stream",
     "text": [
      "[[0. 3. 0. 3. 0. 3. 0. 3.]\n",
      " [3. 0. 3. 0. 3. 0. 3. 0.]\n",
      " [0. 3. 0. 3. 0. 3. 0. 3.]\n",
      " [3. 0. 3. 0. 3. 0. 3. 0.]\n",
      " [0. 3. 0. 3. 0. 3. 0. 3.]\n",
      " [3. 0. 3. 0. 3. 0. 3. 0.]\n",
      " [0. 3. 0. 3. 0. 3. 0. 3.]\n",
      " [3. 0. 3. 0. 3. 0. 3. 0.]]\n"
     ]
    }
   ],
   "source": [
    "tablero = np.zeros((8,8))\n",
    "tablero[1::2,::2] = 3\n",
    "tablero[0::2,1::2] = 3\n",
    "print(tablero)"
   ]
  },
  {
   "cell_type": "markdown",
   "metadata": {},
   "source": [
    "## Ejercicios propuesto con datetime"
   ]
  },
  {
   "cell_type": "markdown",
   "metadata": {},
   "source": [
    "Construya un programa que le pida al usuario como entrada su fecha de nacimiento y le arroje:\n",
    "\n",
    "* Edad.\n",
    "* Dias que faltan para que cumpla años.\n",
    "* A que grupo de edad pertenece (niño, joven, adulto o viejo )\n",
    "* Que dias de la semana nacio.\n"
   ]
  },
  {
   "cell_type": "code",
   "execution_count": 422,
   "metadata": {},
   "outputs": [],
   "source": [
    "from datetime import datetime, date, time, timedelta"
   ]
  },
  {
   "cell_type": "code",
   "execution_count": 477,
   "metadata": {},
   "outputs": [
    {
     "name": "stdout",
     "output_type": "stream",
     "text": [
      "Ingrese año de nacimiento : 1997\n",
      "Ingrese dia de nacimiento : 3\n",
      "Ingrese mes de nacimiento : 2\n"
     ]
    }
   ],
   "source": [
    "año =int(input('Ingrese año de nacimiento : '))\n",
    "dia =int(input('Ingrese dia de nacimiento : '))\n",
    "mes =int(input('Ingrese mes de nacimiento : '))\n",
    "        "
   ]
  },
  {
   "cell_type": "code",
   "execution_count": 478,
   "metadata": {},
   "outputs": [
    {
     "name": "stdout",
     "output_type": "stream",
     "text": [
      "Usted tiene : 21 años\n"
     ]
    }
   ],
   "source": [
    "ahora = datetime.now()\n",
    "fecha = datetime(año,mes,dia,0,0,0)\n",
    "edad = ahora.year-fecha.year\n",
    "print('Usted tiene :',edad,'años')\n"
   ]
  },
  {
   "cell_type": "code",
   "execution_count": 479,
   "metadata": {},
   "outputs": [
    {
     "name": "stdout",
     "output_type": "stream",
     "text": [
      "faltan 179 dias para que cumpla años\n"
     ]
    }
   ],
   "source": [
    "falta = datetime(ahora.year+1,mes,dia,0,0,0)\n",
    "cumple = falta - ahora\n",
    "print('faltan', cumple.days, 'dias para que cumpla años')"
   ]
  },
  {
   "cell_type": "code",
   "execution_count": 480,
   "metadata": {},
   "outputs": [
    {
     "name": "stdout",
     "output_type": "stream",
     "text": [
      "Usted esta joven\n"
     ]
    }
   ],
   "source": [
    "\n",
    "if edad < 16 :\n",
    "    print('Usted esta niño')\n",
    "    \n",
    "elif edad >= 16 & edad <30:\n",
    "    print('Usted esta joven')\n",
    "    \n",
    "elif edad >= 30 & edad < 65:\n",
    "    print('Usted esta adulto')\n",
    "    \n",
    "elif edad >= 65 :\n",
    "    print('Usted es viejo')\n"
   ]
  },
  {
   "cell_type": "code",
   "execution_count": 481,
   "metadata": {},
   "outputs": [
    {
     "name": "stdout",
     "output_type": "stream",
     "text": [
      "Nacio el lunes\n"
     ]
    }
   ],
   "source": [
    "dia = datetime.weekday(fecha)\n",
    "\n",
    "if dia == 0 :\n",
    "    print('Nacio el lunes')\n",
    "if dia == 1 :\n",
    "    print('Nacio el martes')\n",
    "if dia == 2:\n",
    "    print('Nacio el miercoles')\n",
    "if dia == 3 :\n",
    "    print('Nacio el jueves')\n",
    "if dia == 4 :\n",
    "    print('Nacio el viernes')\n",
    "if dia == 5 :\n",
    "    print('Nacio el sabado')\n",
    "if dia == 6 :\n",
    "    print('Nacio el domingo')\n"
   ]
  },
  {
   "cell_type": "markdown",
   "metadata": {},
   "source": [
    "# Ejercicio propuesto con string"
   ]
  },
  {
   "cell_type": "markdown",
   "metadata": {},
   "source": [
    "Construya un archo en python  llamado `archivo.txt` y agregue en este el siguiente mensaje:\n",
    "\n",
    " > ESTE ARCHIVO ES CREADO CON EL FIN DE MOSTRAR LA UTILIDAD DE USAR LA EL MODULO STRING DE PYTHON\n",
    " \n",
    " Luego abralo y haga las siguientes tareas :\n",
    " \n",
    " * Asignelo a una variable y luego transforme todas las letras a minusculas.\n",
    " * Convierta solo la primera letra en mayuscula\n",
    " * Comvierta las palabra python en R. \n",
    " * Construya una función que cuente cuantas veces aparece una letra en el texto.\n",
    " * Imprima por consola el procentaje de veces que aparece una vocal en el texto.  "
   ]
  },
  {
   "cell_type": "code",
   "execution_count": 496,
   "metadata": {},
   "outputs": [],
   "source": [
    "archivo = open('archivo.txt','w')\n",
    "archivo.write('ESTE ARCHIVO ES CREADO CON EL FIN DE MOSTRAR LA UTILIDAD DE USAR LA EL MODULO STRING DE PYTHON')\n",
    "archivo.close()\n",
    "\n",
    "\n"
   ]
  },
  {
   "cell_type": "code",
   "execution_count": 518,
   "metadata": {},
   "outputs": [],
   "source": [
    "archivo = open('archivo.txt')\n",
    "archivo = archivo.read()"
   ]
  },
  {
   "cell_type": "code",
   "execution_count": 519,
   "metadata": {},
   "outputs": [],
   "source": [
    "archivo =str.lower(str(archivo))"
   ]
  },
  {
   "cell_type": "code",
   "execution_count": 520,
   "metadata": {},
   "outputs": [
    {
     "name": "stdout",
     "output_type": "stream",
     "text": [
      "Este archivo es creado con el fin de mostrar la utilidad de usar la el modulo string de python\n"
     ]
    }
   ],
   "source": [
    "print(str.upper(archivo[0]) + archivo[1:])"
   ]
  },
  {
   "cell_type": "code",
   "execution_count": 521,
   "metadata": {},
   "outputs": [
    {
     "name": "stdout",
     "output_type": "stream",
     "text": [
      "Este archivo es creado con el fin de mostrar la utilidad de usar la el modulo string de R\n"
     ]
    }
   ],
   "source": [
    "print('Este archivo es creado con el fin de mostrar la utilidad de usar la el modulo string de %s' %('R'))"
   ]
  },
  {
   "cell_type": "code",
   "execution_count": 525,
   "metadata": {},
   "outputs": [],
   "source": [
    "def count_char(text, char):\n",
    "  count = 0\n",
    "  for c in text:\n",
    "    if c == char:\n",
    "      count += 1\n",
    "  return count\n",
    "\n",
    "\n",
    " \n"
   ]
  },
  {
   "cell_type": "code",
   "execution_count": 528,
   "metadata": {},
   "outputs": [
    {
     "name": "stdout",
     "output_type": "stream",
     "text": [
      "a - 7.45%\n",
      "e - 9.57%\n",
      "i - 5.32%\n",
      "o - 7.45%\n",
      "u - 3.19%\n"
     ]
    }
   ],
   "source": [
    "\n",
    "for i in \"aeiou\":\n",
    "  perc = 100 * count_char(archivo, i) / len(archivo)\n",
    "  print(\"{0} - {1}%\".format(i, round(perc, 2)))"
   ]
  },
  {
   "cell_type": "code",
   "execution_count": null,
   "metadata": {},
   "outputs": [],
   "source": []
  }
 ],
 "metadata": {
  "kernelspec": {
   "display_name": "Python 3",
   "language": "python",
   "name": "python3"
  },
  "language_info": {
   "codemirror_mode": {
    "name": "ipython",
    "version": 3
   },
   "file_extension": ".py",
   "mimetype": "text/x-python",
   "name": "python",
   "nbconvert_exporter": "python",
   "pygments_lexer": "ipython3",
   "version": "3.6.5"
  }
 },
 "nbformat": 4,
 "nbformat_minor": 2
}
